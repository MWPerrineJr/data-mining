{
 "cells": [
  {
   "cell_type": "markdown",
   "id": "ca4cc355",
   "metadata": {},
   "source": [
    "#### Michael Perrine \n",
    "#### Week 11 Assignment\n",
    "#### DSC 550\n",
    "#### Professor Warner\n",
    "\n",
    "\n",
    "<h1><center>Image Analysis</center></h1>"
   ]
  },
  {
   "cell_type": "code",
   "execution_count": 76,
   "id": "615ca201",
   "metadata": {},
   "outputs": [],
   "source": [
    "# Import Libraries\n",
    "import numpy as np\n",
    "import tensorflow as tf\n",
    "from tensorflow import keras\n",
    "import cv2\n",
    "import matplotlib.pyplot as plt\n",
    "from tensorflow.keras import datasets, layers, models\n",
    "from tensorflow.keras import backend as k\n",
    "from tensorflow.keras.optimizers import SGD\n",
    "from tensorflow.keras.models import Sequential\n",
    "from tensorflow.keras.layers import Dense, Dropout, Activation, Flatten, Conv2D, MaxPooling2D\n",
    "from tensorflow import estimator\n",
    "from tensorflow.keras.utils import to_categorical\n",
    "from sklearn.metrics import confusion_matrix,r2_score\n"
   ]
  },
  {
   "cell_type": "markdown",
   "id": "3ed26292",
   "metadata": {},
   "source": [
    "1. Import data from keras"
   ]
  },
  {
   "cell_type": "code",
   "execution_count": 68,
   "id": "dd6fe95b",
   "metadata": {},
   "outputs": [],
   "source": [
    "# Load data and create the X_train, X_test, y_train, _y_test\n",
    "mnist = tf.keras.datasets.mnist\n",
    "(X_train, y_train), (X_test, y_test) = mnist.load_data()\n"
   ]
  },
  {
   "cell_type": "code",
   "execution_count": null,
   "id": "9a1d92c5",
   "metadata": {},
   "outputs": [
    {
     "name": "stdout",
     "output_type": "stream",
     "text": [
      "Initial shape or dimensions of X_train :3\n",
      "Number of samples in our training data set :60000\n",
      "Number of samples in our training data set :60000\n",
      "Number of samples in our training data set :10000\n",
      "Number of samples in our training data set :10000\n",
      "\n",
      "Dimensions of X_train :(28, 28)\n",
      "Labels in X_train :(60000,)\n",
      "\n",
      "Dimensions of X_test :(28, 28)\n",
      "Labels in y_test :(10000,)\n"
     ]
    }
   ],
   "source": [
    "# this series of code prints out the length of the X_train, X_test, y_train and y_test\n",
    "print('Initial shape or dimensions of X_train :' + str(len(X_train.shape)))\n",
    "\n",
    "print('Number of samples in our training data set :' + str(len(X_train)))\n",
    "print('Number of samples in our training data set :' + str(len(y_train)))\n",
    "print('Number of samples in our training data set :' + str(len(X_test)))\n",
    "print('Number of samples in our training data set :' + str(len(y_test)))\n",
    "print()\n",
    "print('Dimensions of X_train :' + str(X_train[0].shape))\n",
    "print('Labels in X_train :' + str(y_train.shape))\n",
    "print()\n",
    "print('Dimensions of X_test :' + str(X_test[0].shape))\n",
    "print('Labels in y_test :' + str(y_test.shape))\n",
    "\n"
   ]
  },
  {
   "cell_type": "markdown",
   "id": "a2ecdab2",
   "metadata": {},
   "source": [
    "2. Display the first 5 images"
   ]
  },
  {
   "cell_type": "code",
   "execution_count": null,
   "id": "a4faa656",
   "metadata": {},
   "outputs": [
    {
     "data": {
      "image/png": "[encoded data removed]",
      "text/plain": [
       "<Figure size 720x144 with 5 Axes>"
      ]
     },
     "metadata": {
      "needs_background": "light"
     },
     "output_type": "display_data"
    }
   ],
   "source": [
    "# This code displays the first five numbers and their labels\n",
    "plt.figure(figsize=(10, 2))\n",
    "for i in range(5):\n",
    "    plt.subplot(1, 5, i + 1)\n",
    "    plt.imshow(X_train[i], cmap='gray')\n",
    "    plt.title(f\"Label: {y_train[i]}\")\n",
    "    plt.axis('off')\n",
    "plt.tight_layout()\n",
    "plt.show()"
   ]
  },
  {
   "cell_type": "markdown",
   "id": "2534a8e9",
   "metadata": {},
   "source": [
    "3. Build and train model\n"
   ]
  },
  {
   "cell_type": "code",
   "execution_count": null,
   "id": "db0b4118",
   "metadata": {},
   "outputs": [
    {
     "name": "stdout",
     "output_type": "stream",
     "text": [
      "Epoch 1/4\n",
      "1875/1875 [==============================] - 42s 22ms/step - loss: 0.3985 - accuracy: 0.9297 - val_loss: 0.1191 - val_accuracy: 0.9680\n",
      "Epoch 2/4\n",
      "1875/1875 [==============================] - 39s 21ms/step - loss: 0.0870 - accuracy: 0.9748 - val_loss: 0.0686 - val_accuracy: 0.9797\n",
      "Epoch 3/4\n",
      "1875/1875 [==============================] - 42s 22ms/step - loss: 0.0704 - accuracy: 0.9800 - val_loss: 0.0630 - val_accuracy: 0.9824\n",
      "Epoch 4/4\n",
      "1875/1875 [==============================] - 49s 26ms/step - loss: 0.0630 - accuracy: 0.9815 - val_loss: 0.0726 - val_accuracy: 0.9822\n"
     ]
    },
    {
     "data": {
      "text/plain": [
       "<keras.callbacks.History at 0x2879f467278>"
      ]
     },
     "execution_count": 72,
     "metadata": {},
     "output_type": "execute_result"
    }
   ],
   "source": [
    "# The following series of code builds and trains the CNN model\n",
    "(X_train, y_train), (X_test, y_test) = mnist.load_data()\n",
    "\n",
    "# This section adds the batch dimension\n",
    "X_train = np.expand_dims(X_train, axis=-1)\n",
    "X_test = np.expand_dims(X_test, axis=-1)\n",
    "\n",
    "# This section creates the one-hot encoding for the labels\n",
    "y_train = to_categorical(y_train, num_classes=None)\n",
    "y_test = to_categorical(y_test, num_classes=None)\n",
    "\n",
    "batch_size = 64\n",
    "\n",
    "# this section fits model using Keras\n",
    "model = Sequential()\n",
    "model.add(Conv2D(32, 5, activation=\"relu\", input_shape=(28, 28, 1)))\n",
    "model.add(MaxPool2D())\n",
    "model.add(Conv2D(32, 5, activation=\"relu\"))\n",
    "model.add(MaxPool2D())\n",
    "model.add(Flatten())\n",
    "model.add(Dense(10, activation='softmax'))\n",
    "model.compile(optimizer='adam', \n",
    "    loss='categorical_crossentropy', metrics=['accuracy'])\n",
    "model.fit(X_train, y_train, \n",
    "    batch_size=32, validation_data=(X_test, y_test), epochs=4)"
   ]
  },
  {
   "cell_type": "code",
   "execution_count": null,
   "id": "ba98bc06",
   "metadata": {},
   "outputs": [
    {
     "name": "stdout",
     "output_type": "stream",
     "text": [
      "Model: \"sequential_17\"\n",
      "_________________________________________________________________\n",
      "Layer (type)                 Output Shape              Param #   \n",
      "=================================================================\n",
      "conv2d_20 (Conv2D)           (None, 24, 24, 32)        832       \n",
      "_________________________________________________________________\n",
      "max_pooling2d_20 (MaxPooling (None, 12, 12, 32)        0         \n",
      "_________________________________________________________________\n",
      "conv2d_21 (Conv2D)           (None, 8, 8, 32)          25632     \n",
      "_________________________________________________________________\n",
      "max_pooling2d_21 (MaxPooling (None, 4, 4, 32)          0         \n",
      "_________________________________________________________________\n",
      "flatten_15 (Flatten)         (None, 512)               0         \n",
      "_________________________________________________________________\n",
      "dense_26 (Dense)             (None, 10)                5130      \n",
      "=================================================================\n",
      "Total params: 31,594\n",
      "Trainable params: 31,594\n",
      "Non-trainable params: 0\n",
      "_________________________________________________________________\n"
     ]
    }
   ],
   "source": [
    "# This code displays the output summary for the CNN\n",
    "model.summary()"
   ]
  },
  {
   "cell_type": "code",
   "execution_count": null,
   "id": "6208448a",
   "metadata": {},
   "outputs": [],
   "source": [
    "# This code creates the y_pred object\n",
    "y_pred = model.predict(X_test)\n",
    "y_pred = np.argmax (y_pred, axis = 1)\n",
    "y_test=np.argmax(y_test, axis=1)"
   ]
  },
  {
   "cell_type": "markdown",
   "id": "c3bd269a",
   "metadata": {},
   "source": [
    "4. Report the accuracy\n"
   ]
  },
  {
   "cell_type": "code",
   "execution_count": null,
   "id": "faa49e17",
   "metadata": {},
   "outputs": [
    {
     "data": {
      "text/plain": [
       "0.9623860928891965"
      ]
     },
     "execution_count": 77,
     "metadata": {},
     "output_type": "execute_result"
    }
   ],
   "source": [
    "# This code calculates \n",
    "r2_score(y_test, y_pred)"
   ]
  },
  {
   "cell_type": "markdown",
   "id": "8552d8b9",
   "metadata": {},
   "source": [
    "5. Build a confusion matrix"
   ]
  },
  {
   "cell_type": "code",
   "execution_count": null,
   "id": "e483ee1d",
   "metadata": {},
   "outputs": [
    {
     "name": "stdout",
     "output_type": "stream",
     "text": [
      "[[9.83805668e-01 0.00000000e+00 4.83091787e-03 0.00000000e+00\n",
      "  0.00000000e+00 0.00000000e+00 2.11193242e-03 0.00000000e+00\n",
      "  0.00000000e+00 1.00502513e-03]\n",
      " [0.00000000e+00 9.91189427e-01 0.00000000e+00 3.90625000e-03\n",
      "  0.00000000e+00 1.10741971e-03 2.11193242e-03 1.96270854e-03\n",
      "  1.01214575e-03 0.00000000e+00]\n",
      " [3.03643725e-03 8.81057269e-04 9.83574879e-01 2.92968750e-03\n",
      "  0.00000000e+00 0.00000000e+00 0.00000000e+00 2.94406281e-03\n",
      "  4.04858300e-03 0.00000000e+00]\n",
      " [0.00000000e+00 0.00000000e+00 0.00000000e+00 9.76562500e-01\n",
      "  0.00000000e+00 7.75193798e-03 0.00000000e+00 1.96270854e-03\n",
      "  1.01214575e-03 0.00000000e+00]\n",
      " [0.00000000e+00 8.81057269e-04 9.66183575e-04 0.00000000e+00\n",
      "  9.90683230e-01 0.00000000e+00 6.33579725e-03 0.00000000e+00\n",
      "  6.07287449e-03 1.10552764e-02]\n",
      " [0.00000000e+00 0.00000000e+00 0.00000000e+00 9.76562500e-03\n",
      "  0.00000000e+00 9.70099668e-01 1.05596621e-03 9.81354269e-04\n",
      "  2.02429150e-03 2.01005025e-03]\n",
      " [7.08502024e-03 1.76211454e-03 9.66183575e-04 1.95312500e-03\n",
      "  3.10559006e-03 5.53709856e-03 9.88384372e-01 0.00000000e+00\n",
      "  2.02429150e-03 0.00000000e+00]\n",
      " [0.00000000e+00 1.76211454e-03 6.76328502e-03 2.92968750e-03\n",
      "  1.03519669e-03 0.00000000e+00 0.00000000e+00 9.85279686e-01\n",
      "  3.03643725e-03 8.04020101e-03]\n",
      " [3.03643725e-03 0.00000000e+00 0.00000000e+00 9.76562500e-04\n",
      "  1.03519669e-03 2.21483942e-03 0.00000000e+00 1.96270854e-03\n",
      "  9.74696356e-01 2.01005025e-03]\n",
      " [3.03643725e-03 3.52422907e-03 2.89855072e-03 9.76562500e-04\n",
      "  4.14078675e-03 1.32890365e-02 0.00000000e+00 4.90677134e-03\n",
      "  6.07287449e-03 9.75879397e-01]]\n"
     ]
    }
   ],
   "source": [
    "# This code creates a confusion matrix and normalizes it over predicted (columns)\n",
    "result = confusion_matrix(y_test, y_pred, normalize='pred')\n",
    "result"
   ]
  },
  {
   "cell_type": "markdown",
   "id": "3fde49f0",
   "metadata": {},
   "source": [
    "6. Summarize Results"
   ]
  },
  {
   "cell_type": "markdown",
   "id": "9950dc86",
   "metadata": {},
   "source": [
    "CNN is a neural network that is used to identify images. For this analysis I used the CNN to analyze the mnist dataset. This is a data set of 60,000 handwritten numbers. I ran four epochs of the data and got an accuracy range from 92.97% to 98.15%. The results are promising. To validate my results I also ran an R-squared with the y_test and y_pred object. The result scored a 96.23"
   ]
  }
 ],
 "metadata": {
  "kernelspec": {
   "display_name": "neural_net",
   "language": "python",
   "name": "python3"
  },
  "language_info": {
   "codemirror_mode": {
    "name": "ipython",
    "version": 3
   },
   "file_extension": ".py",
   "mimetype": "text/x-python",
   "name": "python",
   "nbconvert_exporter": "python",
   "pygments_lexer": "ipython3",
   "version": "3.6.13"
  }
 },
 "nbformat": 4,
 "nbformat_minor": 5
}
